{
 "cells": [
  {
   "cell_type": "code",
   "execution_count": 1,
   "metadata": {},
   "outputs": [
    {
     "name": "stdout",
     "output_type": "stream",
     "text": [
      "Hola mundo\n"
     ]
    }
   ],
   "source": [
    "print(\"Hola mundo\")\n",
    "import sys"
   ]
  },
  {
   "cell_type": "code",
   "execution_count": 5,
   "metadata": {
    "collapsed": true
   },
   "outputs": [],
   "source": [
    "import city_grid"
   ]
  },
  {
   "cell_type": "code",
   "execution_count": null,
   "metadata": {},
   "outputs": [
    {
     "name": "stdout",
     "output_type": "stream",
     "text": [
      "                NOMBRE                            LocAAdmini       LocArea  \\\n",
      "0              USAQUEN  Acuerdo 8 de 1977 y Res 1751 de 2016  6.520141e+07   \n",
      "1            CHAPINERO  Acuerdo 8 de 1977 y Res 1751 de 2016  3.800891e+07   \n",
      "2             SANTA FE                   Acuerdo 117 de 2003  4.517065e+07   \n",
      "3        SAN CRISTOBAL                   Acuerdo 117 de 2003  4.909855e+07   \n",
      "4                 USME                    Acuerdo 15 de 1993  2.150667e+08   \n",
      "5           TUNJUELITO                   Acuerdo 117 de 2003  9.910940e+06   \n",
      "6                 BOSA                    Acuerdo 14 de 1983  2.393320e+07   \n",
      "7              KENNEDY                     Acuerdo 8 de 1977  3.858973e+07   \n",
      "8             FONTIBON                     Acuerdo 8 de 1977  3.328100e+07   \n",
      "9             ENGATIVA                     Acuerdo 8 de 1977  3.588097e+07   \n",
      "10                SUBA                     Acuerdo 8 de 1977  1.005605e+08   \n",
      "11      BARRIOS UNIDOS                     Acuerdo 8 de 1977  1.190345e+07   \n",
      "12         TEUSAQUILLO                     Acuerdo 8 de 1977  1.419317e+07   \n",
      "13        LOS MARTIRES                     Acuerdo 8 de 1977  6.514046e+06   \n",
      "14      ANTONIO NARIÑO                   Acuerdo 117 de 2003  4.879543e+06   \n",
      "15       PUENTE ARANDA                     Acuerdo 8 de 1977  1.731115e+07   \n",
      "16          CANDELARIA                   Acuerdo 117 de 2003  2.060243e+06   \n",
      "17  RAFAEL URIBE URIBE                   Acuerdo 117 de 2003  1.383408e+07   \n",
      "18      CIUDAD BOLIVAR                    Acuerdo 14 de 1983  1.300026e+08   \n",
      "\n",
      "   LocCodigo  SHAPE_Leng  SHAPE_Area  \\\n",
      "0         01    0.436907    0.005310   \n",
      "1         02    0.333966    0.003095   \n",
      "2         03    0.395052    0.003678   \n",
      "3         04    0.363689    0.003998   \n",
      "4         05    0.982969    0.017508   \n",
      "5         06    0.210542    0.000807   \n",
      "6         07    0.307901    0.001949   \n",
      "7         08    0.283582    0.003143   \n",
      "8         09    0.321915    0.002710   \n",
      "9         10    0.291966    0.002922   \n",
      "10        11    0.592875    0.008191   \n",
      "11        12    0.121180    0.000969   \n",
      "12        13    0.148314    0.001156   \n",
      "13        14    0.099382    0.000530   \n",
      "14        15    0.108973    0.000397   \n",
      "15        16    0.161116    0.001410   \n",
      "16        17    0.067158    0.000168   \n",
      "17        18    0.174513    0.001126   \n",
      "18        19    0.702136    0.010585   \n",
      "\n",
      "                                             geometry  \n",
      "0   POLYGON ((-74.01116 4.66459, -74.01117 4.66460...  \n",
      "1   POLYGON ((-74.01116 4.66459, -74.01154 4.66461...  \n",
      "2   POLYGON ((-73.99446 4.61425, -73.99457 4.61414...  \n",
      "3   POLYGON ((-74.02900 4.55830, -74.02930 4.55821...  \n",
      "4   POLYGON ((-74.05597 4.50832, -74.05611 4.50822...  \n",
      "5   POLYGON ((-74.13777 4.59489, -74.13165 4.59363...  \n",
      "6   POLYGON ((-74.18567 4.64705, -74.18480 4.64497...  \n",
      "7   POLYGON ((-74.18567 4.64705, -74.18527 4.64699...  \n",
      "8   POLYGON ((-74.15857 4.66274, -74.15848 4.66279...  \n",
      "9   POLYGON ((-74.15547 4.71798, -74.15547 4.71798...  \n",
      "10  POLYGON ((-74.03450 4.82547, -74.03478 4.82418...  \n",
      "11  POLYGON ((-74.05725 4.68684, -74.06249 4.65594...  \n",
      "12  POLYGON ((-74.09372 4.66607, -74.09332 4.66574...  \n",
      "13  POLYGON ((-74.07283 4.61542, -74.07311 4.61480...  \n",
      "14  POLYGON ((-74.13075 4.59335, -74.12917 4.59327...  \n",
      "15  POLYGON ((-74.11830 4.63741, -74.11504 4.64053...  \n",
      "16  POLYGON ((-74.06621 4.60317, -74.06620 4.60317...  \n",
      "17  POLYGON ((-74.12803 4.59254, -74.12777 4.59233...  \n",
      "18  POLYGON ((-74.21092 4.38691, -74.21114 4.38750...  \n",
      "26460\n"
     ]
    }
   ],
   "source": [
    "city_grid.create_grid('bogota', 250)"
   ]
  },
  {
   "cell_type": "code",
   "execution_count": 4,
   "metadata": {},
   "outputs": [
    {
     "name": "stdout",
     "output_type": "stream",
     "text": [
      "runs_well\n"
     ]
    },
    {
     "ename": "NameError",
     "evalue": "name 'sys' is not defined",
     "output_type": "error",
     "traceback": [
      "\u001b[1;31m---------------------------------------------------------------------------\u001b[0m",
      "\u001b[1;31mNameError\u001b[0m                                 Traceback (most recent call last)",
      "\u001b[1;32m<ipython-input-4-68be3fb23f35>\u001b[0m in \u001b[0;36m<module>\u001b[1;34m()\u001b[0m\n\u001b[1;32m----> 1\u001b[1;33m \u001b[0mexec\u001b[0m\u001b[1;33m(\u001b[0m\u001b[0mopen\u001b[0m\u001b[1;33m(\u001b[0m\u001b[1;34m\".\\\\main_2.py\"\u001b[0m\u001b[1;33m)\u001b[0m\u001b[1;33m.\u001b[0m\u001b[0mread\u001b[0m\u001b[1;33m(\u001b[0m\u001b[1;33m)\u001b[0m\u001b[1;33m)\u001b[0m\u001b[1;33m\u001b[0m\u001b[1;33m\u001b[0m\u001b[0m\n\u001b[0m",
      "\u001b[1;32m<string>\u001b[0m in \u001b[0;36m<module>\u001b[1;34m()\u001b[0m\n",
      "\u001b[1;32mC:\\Users\\diega\\Documents\\proyecto_covid\\Bogota mm\\runner.py\u001b[0m in \u001b[0;36m__init__\u001b[1;34m(self, ruta_censo, ruta_movilidad, city, m, poblacion, area, porcentaje_agentes, infectados_iniciales, lpaso, dias_cuarentena, porcentaje_en_cuarentena, pruebas_disponibles, activacion_testing_aleatorio, activacion_contact_tracing, activación_cuarentena_acordeon, dia_inicio_acordeon, intervalo_acordeon, tiempo_zonificacion)\u001b[0m\n\u001b[0;32m     21\u001b[0m         \u001b[0mself\u001b[0m\u001b[1;33m.\u001b[0m\u001b[0mmovilidad\u001b[0m \u001b[1;33m=\u001b[0m \u001b[0mpd\u001b[0m\u001b[1;33m.\u001b[0m\u001b[0mread_excel\u001b[0m\u001b[1;33m(\u001b[0m\u001b[0mruta_movilidad\u001b[0m\u001b[1;33m,\u001b[0m\u001b[0msheet_name\u001b[0m\u001b[1;33m=\u001b[0m\u001b[1;34m\"movilidad\"\u001b[0m\u001b[1;33m)\u001b[0m\u001b[1;33m\u001b[0m\u001b[1;33m\u001b[0m\u001b[0m\n\u001b[0;32m     22\u001b[0m         \u001b[0mprint\u001b[0m\u001b[1;33m(\u001b[0m\u001b[1;34m\"runs_well\"\u001b[0m\u001b[1;33m)\u001b[0m\u001b[1;33m\u001b[0m\u001b[1;33m\u001b[0m\u001b[0m\n\u001b[1;32m---> 23\u001b[1;33m         \u001b[0msys\u001b[0m\u001b[1;33m.\u001b[0m\u001b[0mexit\u001b[0m\u001b[1;33m(\u001b[0m\u001b[1;33m)\u001b[0m\u001b[1;33m\u001b[0m\u001b[1;33m\u001b[0m\u001b[0m\n\u001b[0m\u001b[0;32m     24\u001b[0m \u001b[1;33m\u001b[0m\u001b[0m\n\u001b[0;32m     25\u001b[0m         \u001b[1;31m#if not os.path.exists(\"Casillas_localidad_\"+str(m)+\".json\"):\u001b[0m\u001b[1;33m\u001b[0m\u001b[1;33m\u001b[0m\u001b[1;33m\u001b[0m\u001b[0m\n",
      "\u001b[1;31mNameError\u001b[0m: name 'sys' is not defined"
     ]
    }
   ],
   "source": [
    "exec(open(\".\\\\main_2.py\").read())"
   ]
  },
  {
   "cell_type": "code",
   "execution_count": 2,
   "metadata": {},
   "outputs": [
    {
     "data": {
      "text/plain": [
       "2"
      ]
     },
     "execution_count": 2,
     "metadata": {},
     "output_type": "execute_result"
    }
   ],
   "source": [
    "import random\n",
    "random.randint(0,4)"
   ]
  },
  {
   "cell_type": "code",
   "execution_count": null,
   "metadata": {
    "collapsed": true
   },
   "outputs": [],
   "source": [
    "from mesa import Agent\n",
    "from mesa.space import MultiGrid\n",
    "from mesa.time import RandomActivation\n",
    "import numpy as np\n",
    "import random\n",
    "import math\n",
    "import pandas as pd"
   ]
  },
  {
   "cell_type": "code",
   "execution_count": null,
   "metadata": {
    "collapsed": true
   },
   "outputs": [],
   "source": [
    " def set_zona(densidad): #método que asigna la zona para los agentes\n",
    "            numdens = random.random()\n",
    "            acumzonas = []\n",
    "            #Crea la acumulada\n",
    "            for fila in range(len(densidad[\"localidad\"])):\n",
    "                if fila == 0:\n",
    "                    acumzonas.append(densidad[\"densidad\"][fila])\n",
    "                else:\n",
    "                    suma=densidad[\"densidad\"][fila]+ acumzonas[fila-1]\n",
    "                    acumzonas.append(suma)\n",
    "            print(acumzonas)\n",
    "            #Asigna la zona    \n",
    "            for i in range(len(acumzonas)):\n",
    "                if i == 0:\n",
    "                    if numdens<acumzonas[i]:\n",
    "                        print(densidad[\"localidad\"][i])\n",
    "                elif i == len(acumzonas)-1:\n",
    "                    if numdens>= acumzonas[i-1] and numdens<=1.0:\n",
    "                        print(densidad[\"localidad\"][i])\n",
    "                else:\n",
    "                    if numdens>= acumzonas[i-1] and numdens<acumzonas[i]:\n",
    "                        print(densidad[\"localidad\"][i])"
   ]
  },
  {
   "cell_type": "code",
   "execution_count": null,
   "metadata": {
    "collapsed": true
   },
   "outputs": [],
   "source": [
    "def calc_acummovilidad(movilidad):\n",
    "        datos = {}\n",
    "        lista = list(movilidad.columns[1:22])\n",
    "        for fila in range(len(movilidad[\"localidad\"])):\n",
    "            datos[movilidad[\"localidad\"][fila]] = []\n",
    "            for columna in range(len(lista)):\n",
    "                if columna == 0:\n",
    "                    datos[movilidad[\"localidad\"][fila]].append(movilidad[lista[columna]][fila])\n",
    "                else:\n",
    "                    n = movilidad[lista[columna]][fila] + datos[movilidad[\"localidad\"][fila]][columna-1]\n",
    "                    datos[movilidad[\"localidad\"][fila]].append(n)\n",
    "        return datos"
   ]
  },
  {
   "cell_type": "code",
   "execution_count": null,
   "metadata": {
    "collapsed": true
   },
   "outputs": [],
   "source": [
    "ruta_datos_movilidad = \"C:/Users/af.useche10/Dropbox (Uniandes)/COVID_19_MODEL/Datos/insumos_modeloabm/bogota/datos_movilidad_vf.xlsx\""
   ]
  },
  {
   "cell_type": "code",
   "execution_count": null,
   "metadata": {
    "collapsed": true
   },
   "outputs": [],
   "source": [
    "movilidad = pd.read_excel(ruta_datos_movilidad,sheet_name=\"movilidad\")"
   ]
  },
  {
   "cell_type": "code",
   "execution_count": null,
   "metadata": {
    "collapsed": true
   },
   "outputs": [],
   "source": [
    "lista = list(movilidad.columns[1:])\n",
    "lista"
   ]
  },
  {
   "cell_type": "code",
   "execution_count": null,
   "metadata": {
    "collapsed": true
   },
   "outputs": [],
   "source": [
    "calc_acummovilidad(movilidad)"
   ]
  },
  {
   "cell_type": "code",
   "execution_count": null,
   "metadata": {
    "collapsed": true
   },
   "outputs": [],
   "source": [
    "import pandas as pd\n",
    "densidad = pd.read_excel(ruta_datos_censo,sheet_name=\"densidad\")"
   ]
  },
  {
   "cell_type": "code",
   "execution_count": null,
   "metadata": {
    "collapsed": true
   },
   "outputs": [],
   "source": [
    "set_zona(densidad)"
   ]
  },
  {
   "cell_type": "code",
   "execution_count": null,
   "metadata": {
    "collapsed": true
   },
   "outputs": [],
   "source": [
    "ruta_datos_censo = \"C:/Users/af.useche10/Dropbox (Uniandes)/COVID_19_MODEL/Datos/datos_censo_vf.xlsx\""
   ]
  },
  {
   "cell_type": "code",
   "execution_count": null,
   "metadata": {
    "collapsed": true
   },
   "outputs": [],
   "source": [
    "import pandas as pd\n",
    "edades = pd.read_excel(ruta_datos_censo,sheet_name=\"edad\")"
   ]
  },
  {
   "cell_type": "code",
   "execution_count": null,
   "metadata": {
    "collapsed": true
   },
   "outputs": [],
   "source": [
    "edades"
   ]
  },
  {
   "cell_type": "code",
   "execution_count": null,
   "metadata": {
    "collapsed": true
   },
   "outputs": [],
   "source": [
    "lista = list(edades.columns[1:22])"
   ]
  },
  {
   "cell_type": "code",
   "execution_count": null,
   "metadata": {
    "collapsed": true
   },
   "outputs": [],
   "source": [
    "rangos = []\n",
    "for i in range(len(lista)):\n",
    "    n1 = 5*(i)\n",
    "    n2 = 5*(i+1)-1\n",
    "    l =[n1,n2]\n",
    "    rangos.append(l)"
   ]
  },
  {
   "cell_type": "code",
   "execution_count": null,
   "metadata": {
    "collapsed": true
   },
   "outputs": [],
   "source": [
    "datos = {}"
   ]
  },
  {
   "cell_type": "code",
   "execution_count": null,
   "metadata": {
    "collapsed": true
   },
   "outputs": [],
   "source": [
    "datos[edades[\"localidad\"][0]] = [0,1]\n",
    "datos[edades[\"localidad\"][1]] = [0,1]\n",
    "datos[edades[\"localidad\"][2]] = [0,1]"
   ]
  },
  {
   "cell_type": "code",
   "execution_count": null,
   "metadata": {
    "collapsed": true
   },
   "outputs": [],
   "source": [
    "for fila in range(len(edades[\"localidad\"])):\n",
    "    datos[edades[\"localidad\"][fila]] = []\n",
    "    for columna in range(len(lista)):\n",
    "        if columna == 0:\n",
    "            datos[edades[\"localidad\"][fila]].append(edades[lista[columna]][fila])\n",
    "        else:\n",
    "            n = edades[lista[columna]][fila] + datos[edades[\"localidad\"][fila]][columna-1]\n",
    "            datos[edades[\"localidad\"][fila]].append(n)"
   ]
  },
  {
   "cell_type": "code",
   "execution_count": null,
   "metadata": {
    "collapsed": true
   },
   "outputs": [],
   "source": [
    "sexo = pd.read_excel(ruta_datos_censo,sheet_name=\"sexo\")"
   ]
  },
  {
   "cell_type": "code",
   "execution_count": null,
   "metadata": {
    "collapsed": true
   },
   "outputs": [],
   "source": [
    "def calc_acumedad(edades):\n",
    "        datos = {}\n",
    "        lista = list(edades.columns[1:22])\n",
    "        for fila in range(len(edades[\"localidad\"])):\n",
    "            datos[edades[\"localidad\"][fila]] = []\n",
    "            for columna in range(len(lista)):\n",
    "                if columna == 0:\n",
    "                    datos[edades[\"localidad\"][fila]].append(edades[lista[columna]][fila])\n",
    "                else:\n",
    "                    n = edades[lista[columna]][fila] + datos[edades[\"localidad\"][fila]][columna-1]\n",
    "                    datos[edades[\"localidad\"][fila]].append(n)\n",
    "        return datos"
   ]
  },
  {
   "cell_type": "code",
   "execution_count": null,
   "metadata": {
    "collapsed": true
   },
   "outputs": [],
   "source": [
    "acumedad = calc_acumedad(edades)"
   ]
  },
  {
   "cell_type": "code",
   "execution_count": null,
   "metadata": {
    "collapsed": true
   },
   "outputs": [],
   "source": [
    "acumedad[15]"
   ]
  },
  {
   "cell_type": "code",
   "execution_count": null,
   "metadata": {
    "collapsed": true
   },
   "outputs": [],
   "source": [
    "def set_edad(acumedad, edades,zona): #Método que asigna la edad\n",
    "        numedad = random.random()\n",
    "        rangos = []\n",
    "        lista = list(edades.columns[1:22])\n",
    "        for i in range(len(lista)):\n",
    "            n1 = 5*(i)\n",
    "            n2 = 5*(i+1)-1\n",
    "            l =[n1,n2]\n",
    "            rangos.append(l)\n",
    "        probabilidades = acumedad[str(zona)]\n",
    "        for i in range(len(probabilidades)):\n",
    "            if i == 0:\n",
    "                if numedad<probabilidades[i]:\n",
    "                    print(random.randint(rangos[i][0],rangos[i][1]))\n",
    "                    break\n",
    "            elif i == len(probabilidades)-1:\n",
    "                if numedad<=1.0 and numedad>=probabilidades[i-1]:\n",
    "                    print(random.randint(rangos[i][0],rangos[i][1]))\n",
    "                    break\n",
    "            else:\n",
    "                if numedad<probabilidades[i] and numedad>=probabilidades[i-1]:\n",
    "                    print(random.randint(rangos[i][0],rangos[i][1]))\n",
    "                    break"
   ]
  },
  {
   "cell_type": "code",
   "execution_count": null,
   "metadata": {
    "collapsed": true
   },
   "outputs": [],
   "source": [
    "diccionario = {}\n",
    "diccionario[1] = [1,2,3,4]\n",
    "diccionario[2] = [4,5,6,7]"
   ]
  },
  {
   "cell_type": "code",
   "execution_count": null,
   "metadata": {
    "collapsed": true
   },
   "outputs": [],
   "source": [
    "for i in diccionario:\n",
    "    print(diccionario.get(i))"
   ]
  },
  {
   "cell_type": "code",
   "execution_count": null,
   "metadata": {
    "collapsed": true
   },
   "outputs": [],
   "source": [
    "lista = [e for e in range(0,4)]"
   ]
  },
  {
   "cell_type": "code",
   "execution_count": 3,
   "metadata": {
    "collapsed": true
   },
   "outputs": [],
   "source": [
    "lista = [1]"
   ]
  },
  {
   "cell_type": "code",
   "execution_count": 4,
   "metadata": {},
   "outputs": [
    {
     "data": {
      "text/plain": [
       "1"
      ]
     },
     "execution_count": 4,
     "metadata": {},
     "output_type": "execute_result"
    }
   ],
   "source": [
    "lista[0]"
   ]
  },
  {
   "cell_type": "code",
   "execution_count": null,
   "metadata": {
    "collapsed": true
   },
   "outputs": [],
   "source": []
  }
 ],
 "metadata": {
  "kernelspec": {
   "display_name": "Python 3",
   "language": "python",
   "name": "python3"
  },
  "language_info": {
   "codemirror_mode": {
    "name": "ipython",
    "version": 3
   },
   "file_extension": ".py",
   "mimetype": "text/x-python",
   "name": "python",
   "nbconvert_exporter": "python",
   "pygments_lexer": "ipython3",
   "version": "3.6.10"
  }
 },
 "nbformat": 4,
 "nbformat_minor": 4
}
