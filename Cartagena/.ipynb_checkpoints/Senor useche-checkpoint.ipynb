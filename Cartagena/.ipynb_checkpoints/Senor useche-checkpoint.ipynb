{
 "cells": [
  {
   "cell_type": "code",
   "execution_count": 1,
   "metadata": {},
   "outputs": [
    {
     "name": "stdout",
     "output_type": "stream",
     "text": [
      "Hola mundo\n"
     ]
    }
   ],
   "source": [
    "print(\"Hola mundo\")\n",
    "import sys"
   ]
  },
  {
   "cell_type": "code",
   "execution_count": 1,
   "metadata": {
    "collapsed": true
   },
   "outputs": [],
   "source": [
    "import city_grid"
   ]
  },
  {
   "cell_type": "code",
   "execution_count": 2,
   "metadata": {},
   "outputs": [
    {
     "name": "stdout",
     "output_type": "stream",
     "text": [
      "   OBJECTID                        NOMBRE  \\\n",
      "0         0        Industrial de la bahia   \n",
      "1         1      De la virgen y turistica   \n",
      "2         2  Historica y del caribe norte   \n",
      "\n",
      "                                            geometry  \n",
      "0  POLYGON ((-75.51312 10.38312, -75.51292 10.383...  \n",
      "1  MULTIPOLYGON (((-75.48298 10.39342, -75.48294 ...  \n",
      "2  MULTIPOLYGON (((-75.51538 10.42371, -75.51496 ...  \n"
     ]
    }
   ],
   "source": [
    "city_grid.create_grid(250)"
   ]
  },
  {
   "cell_type": "code",
   "execution_count": 8,
   "metadata": {},
   "outputs": [
    {
     "ename": "SystemExit",
     "evalue": "",
     "output_type": "error",
     "traceback": [
      "An exception has occurred, use %tb to see the full traceback.\n",
      "\u001b[1;31mSystemExit\u001b[0m\n"
     ]
    },
    {
     "name": "stderr",
     "output_type": "stream",
     "text": [
      "C:\\Users\\diega\\Anaconda3\\lib\\site-packages\\IPython\\core\\interactiveshell.py:2889: UserWarning: To exit: use 'exit', 'quit', or Ctrl-D.\n",
      "  warn(\"To exit: use 'exit', 'quit', or Ctrl-D.\", stacklevel=1)\n"
     ]
    }
   ],
   "source": [
    "exec(open(\".\\\\main.py %tb\").read())"
   ]
  },
  {
   "cell_type": "code",
   "execution_count": 2,
   "metadata": {},
   "outputs": [
    {
     "data": {
      "text/plain": [
       "2"
      ]
     },
     "execution_count": 2,
     "metadata": {},
     "output_type": "execute_result"
    }
   ],
   "source": [
    "import random\n",
    "random.randint(0,4)"
   ]
  },
  {
   "cell_type": "code",
   "execution_count": null,
   "metadata": {
    "collapsed": true
   },
   "outputs": [],
   "source": [
    "from mesa import Agent\n",
    "from mesa.space import MultiGrid\n",
    "from mesa.time import RandomActivation\n",
    "import numpy as np\n",
    "import random\n",
    "import math\n",
    "import pandas as pd"
   ]
  },
  {
   "cell_type": "code",
   "execution_count": null,
   "metadata": {
    "collapsed": true
   },
   "outputs": [],
   "source": [
    " def set_zona(densidad): #método que asigna la zona para los agentes\n",
    "            numdens = random.random()\n",
    "            acumzonas = []\n",
    "            #Crea la acumulada\n",
    "            for fila in range(len(densidad[\"localidad\"])):\n",
    "                if fila == 0:\n",
    "                    acumzonas.append(densidad[\"densidad\"][fila])\n",
    "                else:\n",
    "                    suma=densidad[\"densidad\"][fila]+ acumzonas[fila-1]\n",
    "                    acumzonas.append(suma)\n",
    "            print(acumzonas)\n",
    "            #Asigna la zona    \n",
    "            for i in range(len(acumzonas)):\n",
    "                if i == 0:\n",
    "                    if numdens<acumzonas[i]:\n",
    "                        print(densidad[\"localidad\"][i])\n",
    "                elif i == len(acumzonas)-1:\n",
    "                    if numdens>= acumzonas[i-1] and numdens<=1.0:\n",
    "                        print(densidad[\"localidad\"][i])\n",
    "                else:\n",
    "                    if numdens>= acumzonas[i-1] and numdens<acumzonas[i]:\n",
    "                        print(densidad[\"localidad\"][i])"
   ]
  },
  {
   "cell_type": "code",
   "execution_count": null,
   "metadata": {
    "collapsed": true
   },
   "outputs": [],
   "source": [
    "def calc_acummovilidad(movilidad):\n",
    "        datos = {}\n",
    "        lista = list(movilidad.columns[1:22])\n",
    "        for fila in range(len(movilidad[\"localidad\"])):\n",
    "            datos[movilidad[\"localidad\"][fila]] = []\n",
    "            for columna in range(len(lista)):\n",
    "                if columna == 0:\n",
    "                    datos[movilidad[\"localidad\"][fila]].append(movilidad[lista[columna]][fila])\n",
    "                else:\n",
    "                    n = movilidad[lista[columna]][fila] + datos[movilidad[\"localidad\"][fila]][columna-1]\n",
    "                    datos[movilidad[\"localidad\"][fila]].append(n)\n",
    "        return datos"
   ]
  },
  {
   "cell_type": "code",
   "execution_count": null,
   "metadata": {
    "collapsed": true
   },
   "outputs": [],
   "source": [
    "ruta_datos_movilidad = \"C:/Users/af.useche10/Dropbox (Uniandes)/COVID_19_MODEL/Datos/insumos_modeloabm/bogota/datos_movilidad_vf.xlsx\""
   ]
  },
  {
   "cell_type": "code",
   "execution_count": null,
   "metadata": {
    "collapsed": true
   },
   "outputs": [],
   "source": [
    "movilidad = pd.read_excel(ruta_datos_movilidad,sheet_name=\"movilidad\")"
   ]
  },
  {
   "cell_type": "code",
   "execution_count": null,
   "metadata": {
    "collapsed": true
   },
   "outputs": [],
   "source": [
    "lista = list(movilidad.columns[1:])\n",
    "lista"
   ]
  },
  {
   "cell_type": "code",
   "execution_count": null,
   "metadata": {
    "collapsed": true
   },
   "outputs": [],
   "source": [
    "calc_acummovilidad(movilidad)"
   ]
  },
  {
   "cell_type": "code",
   "execution_count": null,
   "metadata": {
    "collapsed": true
   },
   "outputs": [],
   "source": [
    "import pandas as pd\n",
    "densidad = pd.read_excel(ruta_datos_censo,sheet_name=\"densidad\")"
   ]
  },
  {
   "cell_type": "code",
   "execution_count": null,
   "metadata": {
    "collapsed": true
   },
   "outputs": [],
   "source": [
    "set_zona(densidad)"
   ]
  },
  {
   "cell_type": "code",
   "execution_count": null,
   "metadata": {
    "collapsed": true
   },
   "outputs": [],
   "source": [
    "ruta_datos_censo = \"C:/Users/af.useche10/Dropbox (Uniandes)/COVID_19_MODEL/Datos/datos_censo_vf.xlsx\""
   ]
  },
  {
   "cell_type": "code",
   "execution_count": null,
   "metadata": {
    "collapsed": true
   },
   "outputs": [],
   "source": [
    "import pandas as pd\n",
    "edades = pd.read_excel(ruta_datos_censo,sheet_name=\"edad\")"
   ]
  },
  {
   "cell_type": "code",
   "execution_count": null,
   "metadata": {
    "collapsed": true
   },
   "outputs": [],
   "source": [
    "edades"
   ]
  },
  {
   "cell_type": "code",
   "execution_count": null,
   "metadata": {
    "collapsed": true
   },
   "outputs": [],
   "source": [
    "lista = list(edades.columns[1:22])"
   ]
  },
  {
   "cell_type": "code",
   "execution_count": null,
   "metadata": {
    "collapsed": true
   },
   "outputs": [],
   "source": [
    "rangos = []\n",
    "for i in range(len(lista)):\n",
    "    n1 = 5*(i)\n",
    "    n2 = 5*(i+1)-1\n",
    "    l =[n1,n2]\n",
    "    rangos.append(l)"
   ]
  },
  {
   "cell_type": "code",
   "execution_count": null,
   "metadata": {
    "collapsed": true
   },
   "outputs": [],
   "source": [
    "datos = {}"
   ]
  },
  {
   "cell_type": "code",
   "execution_count": null,
   "metadata": {
    "collapsed": true
   },
   "outputs": [],
   "source": [
    "datos[edades[\"localidad\"][0]] = [0,1]\n",
    "datos[edades[\"localidad\"][1]] = [0,1]\n",
    "datos[edades[\"localidad\"][2]] = [0,1]"
   ]
  },
  {
   "cell_type": "code",
   "execution_count": null,
   "metadata": {
    "collapsed": true
   },
   "outputs": [],
   "source": [
    "for fila in range(len(edades[\"localidad\"])):\n",
    "    datos[edades[\"localidad\"][fila]] = []\n",
    "    for columna in range(len(lista)):\n",
    "        if columna == 0:\n",
    "            datos[edades[\"localidad\"][fila]].append(edades[lista[columna]][fila])\n",
    "        else:\n",
    "            n = edades[lista[columna]][fila] + datos[edades[\"localidad\"][fila]][columna-1]\n",
    "            datos[edades[\"localidad\"][fila]].append(n)"
   ]
  },
  {
   "cell_type": "code",
   "execution_count": null,
   "metadata": {
    "collapsed": true
   },
   "outputs": [],
   "source": [
    "sexo = pd.read_excel(ruta_datos_censo,sheet_name=\"sexo\")"
   ]
  },
  {
   "cell_type": "code",
   "execution_count": null,
   "metadata": {
    "collapsed": true
   },
   "outputs": [],
   "source": [
    "def calc_acumedad(edades):\n",
    "        datos = {}\n",
    "        lista = list(edades.columns[1:22])\n",
    "        for fila in range(len(edades[\"localidad\"])):\n",
    "            datos[edades[\"localidad\"][fila]] = []\n",
    "            for columna in range(len(lista)):\n",
    "                if columna == 0:\n",
    "                    datos[edades[\"localidad\"][fila]].append(edades[lista[columna]][fila])\n",
    "                else:\n",
    "                    n = edades[lista[columna]][fila] + datos[edades[\"localidad\"][fila]][columna-1]\n",
    "                    datos[edades[\"localidad\"][fila]].append(n)\n",
    "        return datos"
   ]
  },
  {
   "cell_type": "code",
   "execution_count": null,
   "metadata": {
    "collapsed": true
   },
   "outputs": [],
   "source": [
    "acumedad = calc_acumedad(edades)"
   ]
  },
  {
   "cell_type": "code",
   "execution_count": null,
   "metadata": {
    "collapsed": true
   },
   "outputs": [],
   "source": [
    "acumedad[15]"
   ]
  },
  {
   "cell_type": "code",
   "execution_count": null,
   "metadata": {
    "collapsed": true
   },
   "outputs": [],
   "source": [
    "def set_edad(acumedad, edades,zona): #Método que asigna la edad\n",
    "        numedad = random.random()\n",
    "        rangos = []\n",
    "        lista = list(edades.columns[1:22])\n",
    "        for i in range(len(lista)):\n",
    "            n1 = 5*(i)\n",
    "            n2 = 5*(i+1)-1\n",
    "            l =[n1,n2]\n",
    "            rangos.append(l)\n",
    "        probabilidades = acumedad[str(zona)]\n",
    "        for i in range(len(probabilidades)):\n",
    "            if i == 0:\n",
    "                if numedad<probabilidades[i]:\n",
    "                    print(random.randint(rangos[i][0],rangos[i][1]))\n",
    "                    break\n",
    "            elif i == len(probabilidades)-1:\n",
    "                if numedad<=1.0 and numedad>=probabilidades[i-1]:\n",
    "                    print(random.randint(rangos[i][0],rangos[i][1]))\n",
    "                    break\n",
    "            else:\n",
    "                if numedad<probabilidades[i] and numedad>=probabilidades[i-1]:\n",
    "                    print(random.randint(rangos[i][0],rangos[i][1]))\n",
    "                    break"
   ]
  },
  {
   "cell_type": "code",
   "execution_count": null,
   "metadata": {
    "collapsed": true
   },
   "outputs": [],
   "source": [
    "diccionario = {}\n",
    "diccionario[1] = [1,2,3,4]\n",
    "diccionario[2] = [4,5,6,7]"
   ]
  },
  {
   "cell_type": "code",
   "execution_count": null,
   "metadata": {
    "collapsed": true
   },
   "outputs": [],
   "source": [
    "for i in diccionario:\n",
    "    print(diccionario.get(i))"
   ]
  },
  {
   "cell_type": "code",
   "execution_count": null,
   "metadata": {
    "collapsed": true
   },
   "outputs": [],
   "source": [
    "lista = [e for e in range(0,4)]"
   ]
  },
  {
   "cell_type": "code",
   "execution_count": 3,
   "metadata": {
    "collapsed": true
   },
   "outputs": [],
   "source": [
    "lista = [1]"
   ]
  },
  {
   "cell_type": "code",
   "execution_count": 4,
   "metadata": {},
   "outputs": [
    {
     "data": {
      "text/plain": [
       "1"
      ]
     },
     "execution_count": 4,
     "metadata": {},
     "output_type": "execute_result"
    }
   ],
   "source": [
    "lista[0]"
   ]
  },
  {
   "cell_type": "code",
   "execution_count": null,
   "metadata": {
    "collapsed": true
   },
   "outputs": [],
   "source": []
  }
 ],
 "metadata": {
  "kernelspec": {
   "display_name": "Python 3",
   "language": "python",
   "name": "python3"
  },
  "language_info": {
   "codemirror_mode": {
    "name": "ipython",
    "version": 3
   },
   "file_extension": ".py",
   "mimetype": "text/x-python",
   "name": "python",
   "nbconvert_exporter": "python",
   "pygments_lexer": "ipython3",
   "version": "3.6.10"
  }
 },
 "nbformat": 4,
 "nbformat_minor": 4
}
