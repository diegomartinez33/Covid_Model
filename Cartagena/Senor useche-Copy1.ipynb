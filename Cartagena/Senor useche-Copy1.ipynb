{
 "cells": [
  {
   "cell_type": "code",
   "execution_count": 1,
   "metadata": {
    "scrolled": false
   },
   "outputs": [
    {
     "name": "stdout",
     "output_type": "stream",
     "text": [
      "22597\n",
      "empezando step 0\n",
      "acabo step 0\n",
      "empezando step 1\n",
      "acabo step 1\n",
      "empezando step 2\n",
      "acabo step 2\n",
      "empezando step 3\n",
      "acabo step 3\n",
      "empezando step 4\n",
      "acabo step 4\n",
      "empezando step 5\n",
      "acabo step 5\n",
      "empezando step 6\n",
      "acabo step 6\n",
      "empezando step 7\n",
      "acabo step 7\n",
      "empezando step 8\n",
      "acabo step 8\n",
      "empezando step 9\n",
      "acabo step 9\n",
      "empezando step 10\n",
      "acabo step 10\n",
      "empezando step 11\n",
      "acabo step 11\n",
      "empezando step 12\n",
      "acabo step 12\n",
      "empezando step 13\n",
      "acabo step 13\n",
      "empezando step 14\n",
      "acabo step 14\n",
      "empezando step 15\n",
      "acabo step 15\n",
      "empezando step 16\n",
      "acabo step 16\n",
      "empezando step 17\n",
      "acabo step 17\n",
      "empezando step 18\n",
      "acabo step 18\n",
      "empezando step 19\n",
      "acabo step 19\n",
      "empezando step 20\n",
      "acabo step 20\n",
      "empezando step 21\n",
      "acabo step 21\n",
      "empezando step 22\n",
      "acabo step 22\n",
      "empezando step 23\n",
      "acabo step 23\n",
      "empezando step 24\n",
      "acabo step 24\n",
      "empezando step 25\n",
      "acabo step 25\n",
      "empezando step 26\n",
      "acabo step 26\n",
      "empezando step 27\n",
      "acabo step 27\n",
      "empezando step 28\n",
      "acabo step 28\n",
      "empezando step 29\n",
      "acabo step 29\n",
      "empezando step 30\n",
      "acabo step 30\n",
      "empezando step 31\n",
      "acabo step 31\n",
      "empezando step 32\n",
      "acabo step 32\n",
      "empezando step 33\n",
      "acabo step 33\n",
      "empezando step 34\n",
      "acabo step 34\n",
      "empezando step 35\n",
      "acabo step 35\n",
      "empezando step 36\n",
      "acabo step 36\n",
      "empezando step 37\n",
      "acabo step 37\n",
      "empezando step 38\n",
      "acabo step 38\n",
      "empezando step 39\n",
      "acabo step 39\n"
     ]
    }
   ],
   "source": [
    "import main"
   ]
  }
 ],
 "metadata": {
  "kernelspec": {
   "display_name": "Python 3",
   "language": "python",
   "name": "python3"
  },
  "language_info": {
   "codemirror_mode": {
    "name": "ipython",
    "version": 3
   },
   "file_extension": ".py",
   "mimetype": "text/x-python",
   "name": "python",
   "nbconvert_exporter": "python",
   "pygments_lexer": "ipython3",
   "version": "3.7.6"
  }
 },
 "nbformat": 4,
 "nbformat_minor": 4
}
