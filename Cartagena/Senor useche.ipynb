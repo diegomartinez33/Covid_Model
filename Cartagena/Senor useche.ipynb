{
 "cells": [
  {
   "cell_type": "code",
   "execution_count": 3,
   "metadata": {},
   "outputs": [
    {
     "name": "stdout",
     "output_type": "stream",
     "text": [
      "Hola mundo\n"
     ]
    },
    {
     "data": {
      "text/plain": [
       "'/home/diegomartinez33/Documents/proyecto_covid/Cartagena'"
      ]
     },
     "execution_count": 3,
     "metadata": {},
     "output_type": "execute_result"
    }
   ],
   "source": [
    "print(\"Hola mundo\")\n",
    "import sys\n",
    "import os\n",
    "os.getcwd()"
   ]
  },
  {
   "cell_type": "code",
   "execution_count": 6,
   "metadata": {},
   "outputs": [
    {
     "ename": "ImportError",
     "evalue": "No module named 'geopandas'",
     "output_type": "error",
     "traceback": [
      "\u001b[0;31m---------------------------------------------------------------------------\u001b[0m",
      "\u001b[0;31mImportError\u001b[0m                               Traceback (most recent call last)",
      "\u001b[0;32m<ipython-input-6-e9fb2084dd6f>\u001b[0m in \u001b[0;36m<module>\u001b[0;34m()\u001b[0m\n\u001b[0;32m----> 1\u001b[0;31m \u001b[0;32mimport\u001b[0m \u001b[0mcity_grid\u001b[0m\u001b[0;34m\u001b[0m\u001b[0m\n\u001b[0m",
      "\u001b[0;32m~/Documents/proyecto_covid/Cartagena/city_grid.py\u001b[0m in \u001b[0;36m<module>\u001b[0;34m()\u001b[0m\n\u001b[1;32m      5\u001b[0m \u001b[0;32mfrom\u001b[0m \u001b[0mitertools\u001b[0m \u001b[0;32mimport\u001b[0m \u001b[0mproduct\u001b[0m\u001b[0;34m\u001b[0m\u001b[0m\n\u001b[1;32m      6\u001b[0m \u001b[0;32mimport\u001b[0m \u001b[0mnumpy\u001b[0m \u001b[0;32mas\u001b[0m \u001b[0mnp\u001b[0m\u001b[0;34m\u001b[0m\u001b[0m\n\u001b[0;32m----> 7\u001b[0;31m \u001b[0;32mimport\u001b[0m \u001b[0mgeopandas\u001b[0m \u001b[0;32mas\u001b[0m \u001b[0mgpd\u001b[0m\u001b[0;34m\u001b[0m\u001b[0m\n\u001b[0m\u001b[1;32m      8\u001b[0m \u001b[0;32mfrom\u001b[0m \u001b[0mgeopy\u001b[0m \u001b[0;32mimport\u001b[0m \u001b[0mdistance\u001b[0m\u001b[0;34m\u001b[0m\u001b[0m\n\u001b[1;32m      9\u001b[0m \u001b[0;32mfrom\u001b[0m \u001b[0mshapely\u001b[0m\u001b[0;34m.\u001b[0m\u001b[0mgeometry\u001b[0m \u001b[0;32mimport\u001b[0m \u001b[0mPolygon\u001b[0m\u001b[0;34m\u001b[0m\u001b[0m\n",
      "\u001b[0;31mImportError\u001b[0m: No module named 'geopandas'"
     ]
    }
   ],
   "source": [
    "import city_grid"
   ]
  },
  {
   "cell_type": "code",
   "execution_count": 2,
   "metadata": {},
   "outputs": [
    {
     "name": "stdout",
     "output_type": "stream",
     "text": [
      "   OBJECTID                        NOMBRE  \\\n",
      "0         0        Industrial de la bahia   \n",
      "1         1      De la virgen y turistica   \n",
      "2         2  Historica y del caribe norte   \n",
      "\n",
      "                                            geometry  \n",
      "0  POLYGON ((-75.51312 10.38312, -75.51292 10.383...  \n",
      "1  MULTIPOLYGON (((-75.48298 10.39342, -75.48294 ...  \n",
      "2  MULTIPOLYGON (((-75.51538 10.42371, -75.51496 ...  \n"
     ]
    }
   ],
   "source": [
    "city_grid.create_grid(250)"
   ]
  },
  {
   "cell_type": "code",
   "execution_count": 5,
   "metadata": {},
   "outputs": [
    {
     "name": "stdout",
     "output_type": "stream",
     "text": [
      "Población: 111\n",
      "empezando step 0\n",
      "acabo step 0\n",
      "empezando step 1\n",
      "acabo step 1\n",
      "empezando step 2\n",
      "acabo step 2\n",
      "empezando step 3\n",
      "acabo step 3\n",
      "empezando step 4\n",
      "True 4 70 0.86\n",
      "0  t: 0  dt: 70\n",
      "1  t: 0  dt: 70\n",
      "1  t: 0  dt: 70\n",
      "1  t: 0  dt: 70\n",
      "1  t: 0  dt: 70\n",
      "1  t: 0  dt: 70\n",
      "1  t: 0  dt: 70\n",
      "0  t: 0  dt: 70\n",
      "1  t: 0  dt: 70\n",
      "1  t: 0  dt: 70\n",
      "0  t: 0  dt: 70\n",
      "1  t: 0  dt: 70\n",
      "1  t: 0  dt: 70\n",
      "1  t: 0  dt: 70\n",
      "1  t: 0  dt: 70\n",
      "1  t: 0  dt: 70\n",
      "1  t: 0  dt: 70\n",
      "1  t: 0  dt: 70\n",
      "1  t: 0  dt: 70\n",
      "1  t: 0  dt: 70\n",
      "1  t: 0  dt: 70\n",
      "1  t: 0  dt: 70\n",
      "0  t: 0  dt: 70\n",
      "1  t: 0  dt: 70\n",
      "1  t: 0  dt: 70\n",
      "1  t: 0  dt: 70\n",
      "1  t: 0  dt: 70\n",
      "1  t: 0  dt: 70\n",
      "1  t: 0  dt: 70\n",
      "1  t: 0  dt: 70\n",
      "1  t: 0  dt: 70\n",
      "1  t: 0  dt: 70\n",
      "1  t: 0  dt: 70\n",
      "1  t: 0  dt: 70\n",
      "1  t: 0  dt: 70\n",
      "1  t: 0  dt: 70\n",
      "1  t: 0  dt: 70\n",
      "1  t: 0  dt: 70\n",
      "1  t: 0  dt: 70\n",
      "1  t: 0  dt: 70\n",
      "1  t: 0  dt: 70\n",
      "1  t: 0  dt: 70\n",
      "1  t: 0  dt: 70\n",
      "1  t: 0  dt: 70\n",
      "1  t: 0  dt: 70\n",
      "0  t: 0  dt: 70\n",
      "1  t: 0  dt: 70\n",
      "1  t: 0  dt: 70\n",
      "1  t: 0  dt: 70\n",
      "1  t: 0  dt: 70\n",
      "1  t: 0  dt: 70\n",
      "0  t: 0  dt: 70\n",
      "1  t: 0  dt: 70\n",
      "1  t: 0  dt: 70\n",
      "0  t: 0  dt: 70\n",
      "1  t: 0  dt: 70\n",
      "1  t: 0  dt: 70\n",
      "1  t: 0  dt: 70\n",
      "1  t: 0  dt: 70\n",
      "1  t: 0  dt: 70\n",
      "1  t: 0  dt: 70\n",
      "1  t: 0  dt: 70\n",
      "1  t: 0  dt: 70\n",
      "1  t: 0  dt: 70\n",
      "1  t: 0  dt: 70\n",
      "1  t: 0  dt: 70\n",
      "1  t: 0  dt: 70\n",
      "1  t: 0  dt: 70\n",
      "1  t: 0  dt: 70\n",
      "1  t: 0  dt: 70\n",
      "1  t: 0  dt: 70\n",
      "1  t: 0  dt: 70\n",
      "0  t: 0  dt: 70\n",
      "1  t: 0  dt: 70\n",
      "1  t: 0  dt: 70\n",
      "1  t: 0  dt: 70\n",
      "1  t: 0  dt: 70\n",
      "1  t: 0  dt: 70\n",
      "1  t: 0  dt: 70\n",
      "1  t: 0  dt: 70\n",
      "1  t: 0  dt: 70\n",
      "1  t: 0  dt: 70\n",
      "1  t: 0  dt: 70\n",
      "1  t: 0  dt: 70\n",
      "1  t: 0  dt: 70\n",
      "1  t: 0  dt: 70\n",
      "1  t: 0  dt: 70\n",
      "1  t: 0  dt: 70\n",
      "1  t: 0  dt: 70\n",
      "1  t: 0  dt: 70\n",
      "1  t: 0  dt: 70\n",
      "1  t: 0  dt: 70\n",
      "1  t: 0  dt: 70\n",
      "1  t: 0  dt: 70\n",
      "1  t: 0  dt: 70\n",
      "1  t: 0  dt: 70\n",
      "1  t: 0  dt: 70\n",
      "1  t: 0  dt: 70\n",
      "1  t: 0  dt: 70\n",
      "0  t: 0  dt: 70\n",
      "1  t: 0  dt: 70\n",
      "1  t: 0  dt: 70\n",
      "1  t: 0  dt: 70\n",
      "1  t: 0  dt: 70\n",
      "1  t: 0  dt: 70\n",
      "1  t: 0  dt: 70\n",
      "1  t: 0  dt: 70\n",
      "1  t: 0  dt: 70\n",
      "1  t: 0  dt: 70\n",
      "1  t: 0  dt: 70\n",
      "1  t: 0  dt: 70\n",
      "acabo step 4\n",
      "empezando step 5\n",
      "acabo step 5\n",
      "empezando step 6\n",
      "acabo step 6\n",
      "empezando step 7\n",
      "acabo step 7\n",
      "empezando step 8\n",
      "acabo step 8\n",
      "empezando step 9\n",
      "acabo step 9\n",
      "empezando step 10\n",
      "acabo step 10\n",
      "empezando step 11\n",
      "acabo step 11\n",
      "empezando step 12\n",
      "acabo step 12\n",
      "empezando step 13\n",
      "acabo step 13\n",
      "empezando step 14\n",
      "acabo step 14\n",
      "empezando step 15\n",
      "acabo step 15\n",
      "empezando step 16\n",
      "acabo step 16\n",
      "empezando step 17\n",
      "acabo step 17\n",
      "empezando step 18\n",
      "acabo step 18\n",
      "empezando step 19\n",
      "acabo step 19\n",
      "empezando step 20\n",
      "acabo step 20\n",
      "empezando step 21\n",
      "acabo step 21\n",
      "empezando step 22\n",
      "acabo step 22\n",
      "empezando step 23\n",
      "acabo step 23\n",
      "empezando step 24\n",
      "acabo step 24\n",
      "empezando step 25\n",
      "acabo step 25\n",
      "empezando step 26\n",
      "acabo step 26\n",
      "empezando step 27\n",
      "acabo step 27\n",
      "empezando step 28\n",
      "acabo step 28\n",
      "empezando step 29\n",
      "acabo step 29\n",
      "empezando step 30\n",
      "acabo step 30\n",
      "empezando step 31\n",
      "acabo step 31\n",
      "empezando step 32\n",
      "acabo step 32\n",
      "empezando step 33\n",
      "acabo step 33\n",
      "empezando step 34\n",
      "acabo step 34\n",
      "empezando step 35\n",
      "acabo step 35\n",
      "empezando step 36\n",
      "acabo step 36\n",
      "empezando step 37\n",
      "acabo step 37\n",
      "empezando step 38\n",
      "acabo step 38\n",
      "empezando step 39\n",
      "acabo step 39\n",
      "empezando step 40\n",
      "acabo step 40\n",
      "empezando step 41\n",
      "acabo step 41\n",
      "empezando step 42\n",
      "acabo step 42\n",
      "empezando step 43\n",
      "acabo step 43\n",
      "empezando step 44\n",
      "acabo step 44\n",
      "empezando step 45\n",
      "acabo step 45\n",
      "empezando step 46\n",
      "acabo step 46\n",
      "empezando step 47\n",
      "acabo step 47\n",
      "empezando step 48\n",
      "acabo step 48\n",
      "empezando step 49\n",
      "acabo step 49\n",
      "empezando step 50\n",
      "acabo step 50\n",
      "empezando step 51\n",
      "acabo step 51\n",
      "empezando step 52\n",
      "acabo step 52\n",
      "empezando step 53\n",
      "acabo step 53\n",
      "empezando step 54\n",
      "acabo step 54\n",
      "empezando step 55\n",
      "acabo step 55\n",
      "empezando step 56\n",
      "acabo step 56\n",
      "empezando step 57\n",
      "acabo step 57\n",
      "empezando step 58\n",
      "acabo step 58\n",
      "empezando step 59\n",
      "acabo step 59\n",
      "empezando step 60\n",
      "acabo step 60\n",
      "empezando step 61\n",
      "acabo step 61\n",
      "empezando step 62\n",
      "acabo step 62\n",
      "empezando step 63\n",
      "acabo step 63\n",
      "empezando step 64\n",
      "acabo step 64\n",
      "empezando step 65\n",
      "acabo step 65\n",
      "empezando step 66\n",
      "acabo step 66\n",
      "empezando step 67\n",
      "acabo step 67\n",
      "empezando step 68\n",
      "acabo step 68\n",
      "empezando step 69\n",
      "acabo step 69\n",
      "empezando step 70\n",
      "acabo step 70\n",
      "empezando step 71\n",
      "acabo step 71\n",
      "empezando step 72\n",
      "acabo step 72\n",
      "empezando step 73\n",
      "acabo step 73\n",
      "empezando step 74\n",
      "acabo step 74\n",
      "empezando step 75\n",
      "acabo step 75\n",
      "empezando step 76\n",
      "acabo step 76\n",
      "empezando step 77\n",
      "acabo step 77\n",
      "empezando step 78\n",
      "acabo step 78\n",
      "empezando step 79\n",
      "acabo step 79\n",
      "empezando step 80\n",
      "acabo step 80\n",
      "empezando step 81\n",
      "acabo step 81\n",
      "empezando step 82\n",
      "acabo step 82\n",
      "empezando step 83\n",
      "acabo step 83\n",
      "empezando step 84\n",
      "acabo step 84\n",
      "empezando step 85\n",
      "acabo step 85\n",
      "empezando step 86\n",
      "acabo step 86\n",
      "empezando step 87\n",
      "acabo step 87\n",
      "empezando step 88\n",
      "acabo step 88\n",
      "empezando step 89\n",
      "acabo step 89\n",
      "empezando step 90\n",
      "acabo step 90\n",
      "empezando step 91\n",
      "acabo step 91\n",
      "empezando step 92\n",
      "acabo step 92\n",
      "empezando step 93\n",
      "acabo step 93\n",
      "empezando step 94\n",
      "acabo step 94\n",
      "empezando step 95\n",
      "acabo step 95\n",
      "empezando step 96\n",
      "acabo step 96\n",
      "empezando step 97\n",
      "acabo step 97\n",
      "empezando step 98\n",
      "acabo step 98\n",
      "empezando step 99\n",
      "acabo step 99\n",
      "empezando step 100\n",
      "acabo step 100\n",
      "empezando step 101\n",
      "acabo step 101\n",
      "empezando step 102\n",
      "acabo step 102\n",
      "empezando step 103\n",
      "acabo step 103\n",
      "empezando step 104\n",
      "acabo step 104\n",
      "empezando step 105\n",
      "acabo step 105\n",
      "empezando step 106\n",
      "acabo step 106\n",
      "empezando step 107\n",
      "acabo step 107\n",
      "empezando step 108\n",
      "acabo step 108\n",
      "empezando step 109\n",
      "acabo step 109\n",
      "empezando step 110\n",
      "acabo step 110\n",
      "empezando step 111\n",
      "acabo step 111\n",
      "empezando step 112\n",
      "acabo step 112\n",
      "empezando step 113\n",
      "acabo step 113\n",
      "empezando step 114\n",
      "acabo step 114\n",
      "empezando step 115\n",
      "acabo step 115\n",
      "empezando step 116\n",
      "acabo step 116\n",
      "empezando step 117\n",
      "acabo step 117\n",
      "empezando step 118\n",
      "acabo step 118\n",
      "empezando step 119\n",
      "acabo step 119\n",
      "empezando step 120\n",
      "acabo step 120\n",
      "empezando step 121\n",
      "acabo step 121\n",
      "empezando step 122\n",
      "acabo step 122\n",
      "empezando step 123\n",
      "acabo step 123\n",
      "empezando step 124\n",
      "acabo step 124\n",
      "empezando step 125\n",
      "acabo step 125\n",
      "empezando step 126\n",
      "acabo step 126\n",
      "empezando step 127\n",
      "acabo step 127\n",
      "empezando step 128\n",
      "acabo step 128\n",
      "empezando step 129\n",
      "acabo step 129\n",
      "empezando step 130\n",
      "acabo step 130\n",
      "empezando step 131\n",
      "acabo step 131\n",
      "empezando step 132\n",
      "acabo step 132\n",
      "empezando step 133\n",
      "acabo step 133\n",
      "empezando step 134\n",
      "acabo step 134\n",
      "empezando step 135\n",
      "acabo step 135\n",
      "empezando step 136\n",
      "acabo step 136\n",
      "empezando step 137\n",
      "acabo step 137\n",
      "empezando step 138\n",
      "acabo step 138\n",
      "empezando step 139\n",
      "acabo step 139\n",
      "empezando step 140\n",
      "acabo step 140\n",
      "empezando step 141\n",
      "acabo step 141\n",
      "empezando step 142\n",
      "acabo step 142\n",
      "empezando step 143\n",
      "acabo step 143\n",
      "empezando step 144\n",
      "acabo step 144\n",
      "empezando step 145\n",
      "acabo step 145\n",
      "empezando step 146\n",
      "acabo step 146\n",
      "empezando step 147\n",
      "acabo step 147\n",
      "empezando step 148\n",
      "acabo step 148\n",
      "empezando step 149\n",
      "acabo step 149\n",
      "-------------------------------------\n",
      "Data saved\n",
      "\n"
     ]
    }
   ],
   "source": [
    "exec(open(\"./main.py\").read())"
   ]
  },
  {
   "cell_type": "code",
   "execution_count": 2,
   "metadata": {},
   "outputs": [
    {
     "data": {
      "text/plain": [
       "2"
      ]
     },
     "execution_count": 2,
     "metadata": {},
     "output_type": "execute_result"
    }
   ],
   "source": [
    "import random\n",
    "random.randint(0,4)"
   ]
  },
  {
   "cell_type": "code",
   "execution_count": null,
   "metadata": {
    "collapsed": true
   },
   "outputs": [],
   "source": [
    "from mesa import Agent\n",
    "from mesa.space import MultiGrid\n",
    "from mesa.time import RandomActivation\n",
    "import numpy as np\n",
    "import random\n",
    "import math\n",
    "import pandas as pd"
   ]
  },
  {
   "cell_type": "code",
   "execution_count": null,
   "metadata": {
    "collapsed": true
   },
   "outputs": [],
   "source": [
    " def set_zona(densidad): #método que asigna la zona para los agentes\n",
    "            numdens = random.random()\n",
    "            acumzonas = []\n",
    "            #Crea la acumulada\n",
    "            for fila in range(len(densidad[\"localidad\"])):\n",
    "                if fila == 0:\n",
    "                    acumzonas.append(densidad[\"densidad\"][fila])\n",
    "                else:\n",
    "                    suma=densidad[\"densidad\"][fila]+ acumzonas[fila-1]\n",
    "                    acumzonas.append(suma)\n",
    "            print(acumzonas)\n",
    "            #Asigna la zona    \n",
    "            for i in range(len(acumzonas)):\n",
    "                if i == 0:\n",
    "                    if numdens<acumzonas[i]:\n",
    "                        print(densidad[\"localidad\"][i])\n",
    "                elif i == len(acumzonas)-1:\n",
    "                    if numdens>= acumzonas[i-1] and numdens<=1.0:\n",
    "                        print(densidad[\"localidad\"][i])\n",
    "                else:\n",
    "                    if numdens>= acumzonas[i-1] and numdens<acumzonas[i]:\n",
    "                        print(densidad[\"localidad\"][i])"
   ]
  },
  {
   "cell_type": "code",
   "execution_count": null,
   "metadata": {
    "collapsed": true
   },
   "outputs": [],
   "source": [
    "def calc_acummovilidad(movilidad):\n",
    "        datos = {}\n",
    "        lista = list(movilidad.columns[1:22])\n",
    "        for fila in range(len(movilidad[\"localidad\"])):\n",
    "            datos[movilidad[\"localidad\"][fila]] = []\n",
    "            for columna in range(len(lista)):\n",
    "                if columna == 0:\n",
    "                    datos[movilidad[\"localidad\"][fila]].append(movilidad[lista[columna]][fila])\n",
    "                else:\n",
    "                    n = movilidad[lista[columna]][fila] + datos[movilidad[\"localidad\"][fila]][columna-1]\n",
    "                    datos[movilidad[\"localidad\"][fila]].append(n)\n",
    "        return datos"
   ]
  },
  {
   "cell_type": "code",
   "execution_count": null,
   "metadata": {
    "collapsed": true
   },
   "outputs": [],
   "source": [
    "ruta_datos_movilidad = \"C:/Users/af.useche10/Dropbox (Uniandes)/COVID_19_MODEL/Datos/insumos_modeloabm/bogota/datos_movilidad_vf.xlsx\""
   ]
  },
  {
   "cell_type": "code",
   "execution_count": null,
   "metadata": {
    "collapsed": true
   },
   "outputs": [],
   "source": [
    "movilidad = pd.read_excel(ruta_datos_movilidad,sheet_name=\"movilidad\")"
   ]
  },
  {
   "cell_type": "code",
   "execution_count": null,
   "metadata": {
    "collapsed": true
   },
   "outputs": [],
   "source": [
    "lista = list(movilidad.columns[1:])\n",
    "lista"
   ]
  },
  {
   "cell_type": "code",
   "execution_count": null,
   "metadata": {
    "collapsed": true
   },
   "outputs": [],
   "source": [
    "calc_acummovilidad(movilidad)"
   ]
  },
  {
   "cell_type": "code",
   "execution_count": null,
   "metadata": {
    "collapsed": true
   },
   "outputs": [],
   "source": [
    "import pandas as pd\n",
    "densidad = pd.read_excel(ruta_datos_censo,sheet_name=\"densidad\")"
   ]
  },
  {
   "cell_type": "code",
   "execution_count": null,
   "metadata": {
    "collapsed": true
   },
   "outputs": [],
   "source": [
    "set_zona(densidad)"
   ]
  },
  {
   "cell_type": "code",
   "execution_count": null,
   "metadata": {
    "collapsed": true
   },
   "outputs": [],
   "source": [
    "ruta_datos_censo = \"C:/Users/af.useche10/Dropbox (Uniandes)/COVID_19_MODEL/Datos/datos_censo_vf.xlsx\""
   ]
  },
  {
   "cell_type": "code",
   "execution_count": null,
   "metadata": {
    "collapsed": true
   },
   "outputs": [],
   "source": [
    "import pandas as pd\n",
    "edades = pd.read_excel(ruta_datos_censo,sheet_name=\"edad\")"
   ]
  },
  {
   "cell_type": "code",
   "execution_count": null,
   "metadata": {
    "collapsed": true
   },
   "outputs": [],
   "source": [
    "edades"
   ]
  },
  {
   "cell_type": "code",
   "execution_count": null,
   "metadata": {
    "collapsed": true
   },
   "outputs": [],
   "source": [
    "lista = list(edades.columns[1:22])"
   ]
  },
  {
   "cell_type": "code",
   "execution_count": null,
   "metadata": {
    "collapsed": true
   },
   "outputs": [],
   "source": [
    "rangos = []\n",
    "for i in range(len(lista)):\n",
    "    n1 = 5*(i)\n",
    "    n2 = 5*(i+1)-1\n",
    "    l =[n1,n2]\n",
    "    rangos.append(l)"
   ]
  },
  {
   "cell_type": "code",
   "execution_count": null,
   "metadata": {
    "collapsed": true
   },
   "outputs": [],
   "source": [
    "datos = {}"
   ]
  },
  {
   "cell_type": "code",
   "execution_count": null,
   "metadata": {
    "collapsed": true
   },
   "outputs": [],
   "source": [
    "datos[edades[\"localidad\"][0]] = [0,1]\n",
    "datos[edades[\"localidad\"][1]] = [0,1]\n",
    "datos[edades[\"localidad\"][2]] = [0,1]"
   ]
  },
  {
   "cell_type": "code",
   "execution_count": null,
   "metadata": {
    "collapsed": true
   },
   "outputs": [],
   "source": [
    "for fila in range(len(edades[\"localidad\"])):\n",
    "    datos[edades[\"localidad\"][fila]] = []\n",
    "    for columna in range(len(lista)):\n",
    "        if columna == 0:\n",
    "            datos[edades[\"localidad\"][fila]].append(edades[lista[columna]][fila])\n",
    "        else:\n",
    "            n = edades[lista[columna]][fila] + datos[edades[\"localidad\"][fila]][columna-1]\n",
    "            datos[edades[\"localidad\"][fila]].append(n)"
   ]
  },
  {
   "cell_type": "code",
   "execution_count": null,
   "metadata": {
    "collapsed": true
   },
   "outputs": [],
   "source": [
    "sexo = pd.read_excel(ruta_datos_censo,sheet_name=\"sexo\")"
   ]
  },
  {
   "cell_type": "code",
   "execution_count": null,
   "metadata": {
    "collapsed": true
   },
   "outputs": [],
   "source": [
    "def calc_acumedad(edades):\n",
    "        datos = {}\n",
    "        lista = list(edades.columns[1:22])\n",
    "        for fila in range(len(edades[\"localidad\"])):\n",
    "            datos[edades[\"localidad\"][fila]] = []\n",
    "            for columna in range(len(lista)):\n",
    "                if columna == 0:\n",
    "                    datos[edades[\"localidad\"][fila]].append(edades[lista[columna]][fila])\n",
    "                else:\n",
    "                    n = edades[lista[columna]][fila] + datos[edades[\"localidad\"][fila]][columna-1]\n",
    "                    datos[edades[\"localidad\"][fila]].append(n)\n",
    "        return datos"
   ]
  },
  {
   "cell_type": "code",
   "execution_count": null,
   "metadata": {
    "collapsed": true
   },
   "outputs": [],
   "source": [
    "acumedad = calc_acumedad(edades)"
   ]
  },
  {
   "cell_type": "code",
   "execution_count": null,
   "metadata": {
    "collapsed": true
   },
   "outputs": [],
   "source": [
    "acumedad[15]"
   ]
  },
  {
   "cell_type": "code",
   "execution_count": null,
   "metadata": {
    "collapsed": true
   },
   "outputs": [],
   "source": [
    "def set_edad(acumedad, edades,zona): #Método que asigna la edad\n",
    "        numedad = random.random()\n",
    "        rangos = []\n",
    "        lista = list(edades.columns[1:22])\n",
    "        for i in range(len(lista)):\n",
    "            n1 = 5*(i)\n",
    "            n2 = 5*(i+1)-1\n",
    "            l =[n1,n2]\n",
    "            rangos.append(l)\n",
    "        probabilidades = acumedad[str(zona)]\n",
    "        for i in range(len(probabilidades)):\n",
    "            if i == 0:\n",
    "                if numedad<probabilidades[i]:\n",
    "                    print(random.randint(rangos[i][0],rangos[i][1]))\n",
    "                    break\n",
    "            elif i == len(probabilidades)-1:\n",
    "                if numedad<=1.0 and numedad>=probabilidades[i-1]:\n",
    "                    print(random.randint(rangos[i][0],rangos[i][1]))\n",
    "                    break\n",
    "            else:\n",
    "                if numedad<probabilidades[i] and numedad>=probabilidades[i-1]:\n",
    "                    print(random.randint(rangos[i][0],rangos[i][1]))\n",
    "                    break"
   ]
  },
  {
   "cell_type": "code",
   "execution_count": null,
   "metadata": {
    "collapsed": true
   },
   "outputs": [],
   "source": [
    "diccionario = {}\n",
    "diccionario[1] = [1,2,3,4]\n",
    "diccionario[2] = [4,5,6,7]"
   ]
  },
  {
   "cell_type": "code",
   "execution_count": null,
   "metadata": {
    "collapsed": true
   },
   "outputs": [],
   "source": [
    "for i in diccionario:\n",
    "    print(diccionario.get(i))"
   ]
  },
  {
   "cell_type": "code",
   "execution_count": null,
   "metadata": {
    "collapsed": true
   },
   "outputs": [],
   "source": [
    "lista = [e for e in range(0,4)]"
   ]
  },
  {
   "cell_type": "code",
   "execution_count": 3,
   "metadata": {
    "collapsed": true
   },
   "outputs": [],
   "source": [
    "lista = [1]"
   ]
  },
  {
   "cell_type": "code",
   "execution_count": 4,
   "metadata": {},
   "outputs": [
    {
     "data": {
      "text/plain": [
       "1"
      ]
     },
     "execution_count": 4,
     "metadata": {},
     "output_type": "execute_result"
    }
   ],
   "source": [
    "lista[0]"
   ]
  },
  {
   "cell_type": "code",
   "execution_count": null,
   "metadata": {
    "collapsed": true
   },
   "outputs": [],
   "source": []
  }
 ],
 "metadata": {
  "kernelspec": {
   "display_name": "Python 3",
   "language": "python",
   "name": "python3"
  },
  "language_info": {
   "codemirror_mode": {
    "name": "ipython",
    "version": 3
   },
   "file_extension": ".py",
   "mimetype": "text/x-python",
   "name": "python",
   "nbconvert_exporter": "python",
   "pygments_lexer": "ipython3",
   "version": "3.5.4"
  }
 },
 "nbformat": 4,
 "nbformat_minor": 4
}
